{
 "cells": [
  {
   "cell_type": "code",
   "execution_count": 1,
   "metadata": {},
   "outputs": [],
   "source": [
    "import numpy as np\n",
    "from matplotlib import pyplot as plt\n",
    "import ipdb\n",
    "np.random.seed(76) # Felt Lucky :P \n",
    "\n",
    "image_height = 32\n",
    "image_width = 32\n",
    "image_depth = 1\n",
    "\n",
    "filter_shape = 5\n",
    "\n"
   ]
  },
  {
   "cell_type": "code",
   "execution_count": 2,
   "metadata": {},
   "outputs": [],
   "source": [
    "\n",
    "def relu(data):                     #Activation function\n",
    "    return np.maximum(data, 0)\n",
    "    \n",
    "\n",
    "def convolution(image, filter):     #Convolution function\n",
    "\n",
    "    filter_height, filter_width, filter_depth = filter.shape\n",
    "    image_height, image_width, image_depth = image.shape\n",
    "\n",
    "    output_height = image_height - filter_height + 1\n",
    "    output_width = image_width - filter_width + 1\n",
    "    output_depth = filter_depth\n",
    "\n",
    "    output = np.zeros((output_height, output_width, output_depth))\n",
    "\n",
    "    for y in range(output_height):\n",
    "        for x in range(output_width):\n",
    "            for z in range(output_depth):\n",
    "            \n",
    "                image_patch = image[y:y+filter_height, x:x+filter_width, :] \n",
    "                filter_of_iterest = filter[:, :, z]\n",
    "\n",
    "                dot_product = np.dot( filter_of_iterest, image_patch.T)\n",
    "                output[y, x, z] = np.sum(dot_product )\n",
    "\n",
    "    return output\n",
    "\n",
    "def maxpool(image, kernel_shape):     #MaxPool function\n",
    "\n",
    "\n",
    "    image_height, image_width, image_depth = image.shape\n",
    "\n",
    "    output_height = int((image_height - kernel_shape)/kernel_shape) + 1\n",
    "    output_width = int((image_width - kernel_shape)/kernel_shape) + 1\n",
    "    output_depth = image_depth\n",
    "\n",
    "    output = np.zeros((output_height, output_width, output_depth))\n",
    "\n",
    "    for y in range(0, output_height, kernel_shape):\n",
    "        for x in range(0, output_width, kernel_shape):\n",
    "            for z in range(output_depth):\n",
    "                \n",
    "                image_patch = image[y:y+kernel_shape, x:x+kernel_shape, z] \n",
    "                output[y, x, z] = np.max(image_patch )\n",
    "      \n",
    "\n",
    "    return output\n",
    "\n",
    "\n",
    "def softmax(z):                         #Softmax function\n",
    "\n",
    "    s = np.max(z, axis=1)\n",
    "    s = s[:, np.newaxis] # necessary step to do broadcasting)\n",
    "    e_x = np.exp(z - s)\n",
    "    div = np.sum(e_x, axis=1)\n",
    "    div = div[:, np.newaxis] # dito\n",
    "    return e_x / div\n",
    "\n",
    "\n",
    "def linear(x, weights, bias):          #Linear function\n",
    "  \n",
    "    out = np.dot(x,weights) + bias\n",
    "    return out\n",
    "    \n"
   ]
  },
  {
   "cell_type": "code",
   "execution_count": 3,
   "metadata": {},
   "outputs": [],
   "source": [
    "                            ###########   Data Allocation ###########\n",
    "\n",
    "# Have used random data for now, will change it to the actual data later\n",
    "\n",
    "image = np.random.rand(image_height, image_width, image_depth)  #Maybe use image of Dustin :P\n",
    "filter_depths = [8, 16]\n",
    "filter1_weights = np.random.rand(filter_shape,filter_shape, filter_depths[0])   # Change the filter size here\n",
    "filter1_bias = np.random.rand(image_height - filter_shape + 1, image_width - filter_shape + 1, filter_depths[0])\n",
    "filter2_weights = np.random.rand(filter_shape,filter_shape,filter_depths[1])\n",
    "bias_dim = int((image_height + 1 - 3*filter_shape)/2) + 1\n",
    "filter2_bias = np.random.rand(bias_dim, bias_dim, filter_depths[1])\n",
    "linear_input_dim = int((bias_dim - 2)/2) +1\n",
    "linear1_weights = np.random.rand(linear_input_dim * linear_input_dim * filter_depths[1], 128)\n",
    "linear1_bias = np.random.rand(128)\n",
    "linear2_weights = np.random.rand(128, 64)      \n",
    "linear2_bias = np.random.rand(64)\n",
    "linear3_weights = np.random.rand(64, 10)\n",
    "linear3_bias = np.random.rand(10)        # 10 classes (we can increase depending on the boards config)\n",
    "\n",
    "# TODO:\n",
    "# add Batch size for inference"
   ]
  },
  {
   "cell_type": "code",
   "execution_count": 4,
   "metadata": {},
   "outputs": [
    {
     "name": "stdout",
     "output_type": "stream",
     "text": [
      "4\n"
     ]
    }
   ],
   "source": [
    " ############################ Convoltion and MaxPool Layers ############################\n",
    "conv_out1 = relu(convolution(image, filter1_weights) + filter1_bias)        # 32x32x3  -->   5x5x8     ---> 28x28x8\n",
    "conv_out1 = maxpool(conv_out1, 2)                                           # 28x28x8  -->   Max(2)    ---> 14x14x8\n",
    "\n",
    "conv_out2 = relu(convolution(conv_out1, filter2_weights) + filter2_bias)    # 14x14x8  -->   5x5x16    ---> 10x10x16\n",
    "conv_out2 = maxpool(conv_out2, 2)                                           # 10x10x16 -->   5x5x16    ---> 5x5x16\n",
    "############################ Flatten Data for Conv - > Linear Operation ############################\n",
    "flatten_dim= 1\n",
    "for dim in conv_out2.shape:\n",
    "    flatten_dim *= dim\n",
    "flattened_out = conv_out2.reshape(-1, flatten_dim)                          # 5x5x16  ---   -----     ---> 1x400\n",
    "\n",
    " ############################ Linear Layers ############################\n",
    "\n",
    "linear1_out = relu(linear( flattened_out,linear1_weights, linear1_bias))    # 1x400  ---  400x128  ---> 1x128 (Wx+b)\n",
    "linear2_out = relu(linear( linear1_out,linear2_weights, linear2_bias))      # 1x128  ---  128x64  ---> 1x64 (Wx+b)\n",
    "linear3_out = linear( linear2_out,linear3_weights, linear3_bias)            # 1x64   ---  164x10  ---> 1x10 (Wx+b)\n",
    "\n",
    "        #Now Apply Argmax to find the Probability of the image being of a particular class (0-9) \n",
    "        # (i.e) pick the max probab returned from the linear2_out\n",
    "\n",
    " ############################ Output Inference ############################\n",
    "\n",
    "out = softmax(linear3_out)\n",
    "class_output = np.argmax(out)\n",
    "print(class_output)\n"
   ]
  },
  {
   "cell_type": "code",
   "execution_count": null,
   "metadata": {},
   "outputs": [],
   "source": []
  }
 ],
 "metadata": {
  "kernelspec": {
   "display_name": "Python 3 (ipykernel)",
   "language": "python",
   "name": "python3"
  },
  "language_info": {
   "codemirror_mode": {
    "name": "ipython",
    "version": 3
   },
   "file_extension": ".py",
   "mimetype": "text/x-python",
   "name": "python",
   "nbconvert_exporter": "python",
   "pygments_lexer": "ipython3",
   "version": "3.9.13"
  },
  "vscode": {
   "interpreter": {
    "hash": "8f451e2ec0efca4e735958d41e77c7742b807f4a5b1ee318c06686c29c470802"
   }
  }
 },
 "nbformat": 4,
 "nbformat_minor": 2
}
